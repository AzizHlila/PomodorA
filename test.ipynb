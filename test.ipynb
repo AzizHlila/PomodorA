{
 "cells": [
  {
   "cell_type": "code",
   "execution_count": null,
   "metadata": {},
   "outputs": [],
   "source": [
    "from screeninfo "
   ]
  }
 ],
 "metadata": {
  "kernelspec": {
   "display_name": "Python 3.8.3 64-bit",
   "language": "python",
   "name": "python3"
  },
  "language_info": {
   "name": "python",
   "version": "3.8.3"
  },
  "orig_nbformat": 4,
  "vscode": {
   "interpreter": {
    "hash": "06c942b27e602492621ce7e74cb8ac57023505fb96de8d41ae9d2c9ac5f37c9e"
   }
  }
 },
 "nbformat": 4,
 "nbformat_minor": 2
}
